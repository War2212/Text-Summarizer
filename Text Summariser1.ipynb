{
 "cells": [
  {
   "cell_type": "markdown",
   "metadata": {},
   "source": [
    "# This is an attempt on building a text summarizer\n",
    "\n",
    "First we need to know how a text summarizer works what kind of text smmarizer we are building \n",
    "\n",
    "There are certain types of text summarizers\n",
    "1)\n"
   ]
  },
  {
   "cell_type": "code",
   "execution_count": 12,
   "metadata": {},
   "outputs": [],
   "source": [
    "import nltk\n",
    "from nltk import word_tokenize\n",
    "import string\n",
    "import heapq"
   ]
  },
  {
   "cell_type": "code",
   "execution_count": 22,
   "metadata": {},
   "outputs": [
    {
     "name": "stdout",
     "output_type": "stream",
     "text": [
      "Frodo sets out, accompanied by his gardener, servant and friend, Samwise \"Sam\" Gamgee, and two cousins, Meriadoc \"Merry\" Brandybuck and Peregrin \"Pippin\" Took. \n",
      "\n",
      "With boats and gifts from Galadriel, the Company travel down the River Anduin to the hill of Amon Hen. \n",
      "\n",
      "The Black Riders nearly capture him at the Ford of Bruinen, but flood waters summoned by Elrond, master of Rivendell, rise up and overwhelm them. \n",
      "\n",
      "The others escape and find refuge in the Elven forest of Lothlórien, where they are counselled by its rulers, Galadriel and Celeborn. \n",
      "\n",
      "Neither hobbit is aware of the Ring's nature, but Gandalf the Grey, a wizard and an old friend of Bilbo, suspects it to be Sauron's Ring. \n",
      "\n",
      "Frodo chooses to go alone to Mordor, but Sam guesses what he intends and goes with him. \n",
      "\n",
      "There, Boromir tries to take the Ring from Frodo, but Frodo puts it on and disappears. \n",
      "\n"
     ]
    }
   ],
   "source": [
    "def open_file():\n",
    "    filename = 'C:/Users/DELL/Desktop/Test.txt'\n",
    "    file = open(filename,'r')\n",
    "    text = file.read()\n",
    "    file.close()\n",
    "    \n",
    "    words = word_tokenize(text)    \n",
    "    words = [word.lower() for word in words]\n",
    "    \n",
    "    stop_words = nltk.corpus.stopwords.words('english')\n",
    "    sentences = nltk.sent_tokenize(text)\n",
    "    word2count = {}\n",
    "    \n",
    "    for word in words:     \n",
    "        if word not in stop_words:                  \n",
    "            if word not in word2count.keys():\n",
    "                word2count[word]=1\n",
    "            else:\n",
    "                word2count[word]+=1\n",
    "                \n",
    "    for key in word2count.keys():                   #line 4\n",
    "        word2count[key]=word2count[key]/max(word2count.values())\n",
    "        \n",
    "        \n",
    "    sent2score = {}\n",
    "    for sentence in sentences:\n",
    "        for word in nltk.word_tokenize(sentence.lower()):\n",
    "            if word in word2count.keys():\n",
    "                if len(sentence.split(' '))<30:\n",
    "                    if sentence not in sent2score.keys():\n",
    "                         sent2score[sentence]=word2count[word]\n",
    "                    else:\n",
    "                        sent2score[sentence]+=word2count[word]\n",
    "                        \n",
    "    best_sentences = heapq.nlargest(7,sent2score,key=sent2score.get)\n",
    "    \n",
    "    \n",
    "    for sentences in best_sentences:\n",
    "        print(sentences,'\\n')\n",
    "                \n",
    "    #print(sentences)\n",
    "                \n",
    "    \n",
    "    #print(words[10:]) \n",
    "   \n",
    "open_file()\n"
   ]
  },
  {
   "cell_type": "code",
   "execution_count": null,
   "metadata": {},
   "outputs": [],
   "source": []
  },
  {
   "cell_type": "code",
   "execution_count": null,
   "metadata": {},
   "outputs": [],
   "source": []
  }
 ],
 "metadata": {
  "kernelspec": {
   "display_name": "Python 3",
   "language": "python",
   "name": "python3"
  },
  "language_info": {
   "codemirror_mode": {
    "name": "ipython",
    "version": 3
   },
   "file_extension": ".py",
   "mimetype": "text/x-python",
   "name": "python",
   "nbconvert_exporter": "python",
   "pygments_lexer": "ipython3",
   "version": "3.7.0"
  }
 },
 "nbformat": 4,
 "nbformat_minor": 2
}
