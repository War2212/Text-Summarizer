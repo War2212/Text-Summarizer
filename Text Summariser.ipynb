{
 "cells": [
  {
   "cell_type": "markdown",
   "metadata": {},
   "source": [
    "# This is an attempt on building a text summarizer\n",
    "\n",
    "First we need to know how a text summarizer works what kind of text smmarizer we are building \n",
    "\n",
    "There are certain types of text summarizers\n",
    "1)\n"
   ]
  },
  {
   "cell_type": "code",
   "execution_count": 1,
   "metadata": {},
   "outputs": [],
   "source": [
    "import nltk\n",
    "from nltk import word_tokenize\n",
    "from collections import Counter"
   ]
  },
  {
   "cell_type": "code",
   "execution_count": 20,
   "metadata": {},
   "outputs": [
    {
     "name": "stdout",
     "output_type": "stream",
     "text": [
      "['groups', 'of', 'chemically', 'connected', 'or', 'functionally', 'associated', 'neurons.', 'A', 'single', 'neuron', 'may', 'be', 'connected', 'to', 'many', 'other', 'neurons', 'and', 'the', 'total', 'number', 'of', 'neurons', 'and', 'connections', 'in', 'a', 'network', 'may', 'be', 'extensive.', 'Connections,', 'called', 'synapses,', 'are', 'usually', 'formed', 'from', 'axons', 'to', 'dendrites,', 'though', 'dendrodendritic', 'synapses[3]', 'and', 'other', 'connections', 'are', 'possible.', 'Apart', 'from', 'the', 'electrical', 'signaling,', 'there', 'are', 'other', 'forms', 'of', 'signaling', 'that', 'arise', 'from', 'neurotransmitter', 'diffusion.', 'Artificial', 'intelligence,', 'cognitive', 'modeling,', 'and', 'neural', 'networks', 'are', 'information', 'processing', 'paradigms', 'inspired', 'by', 'the', 'way', 'biological', 'neural', 'systems', 'process', 'data.', 'Artificial', 'intelligence', 'and', 'cognitive', 'modeling', 'try', 'to', 'simulate', 'some', 'properties', 'of', 'biological', 'neural', 'networks.', 'In', 'the', 'artificial', 'intelligence', 'field,', 'artificial', 'neural', 'networks', 'have', 'been', 'applied', 'successfully', 'to', 'speech', 'recognition,', 'image', 'analysis', 'and', 'adaptive', 'control,', 'in', 'order', 'to', 'construct', 'software', 'agents', '(in', 'computer', 'and', 'video', 'games)', 'or', 'autonomous', 'robots.', 'Historically,', 'digital', 'computers', 'evolved', 'from', 'the', 'von', 'Neumann', 'model,', 'and', 'operate', 'via', 'the', 'execution', 'of', 'explicit', 'instructions', 'via', 'access', 'to', 'memory', 'by', 'a', 'number', 'of', 'processors.', 'On', 'the', 'other', 'hand,', 'the', 'origins', 'of', 'neural', 'networks', 'are', 'based', 'on', 'efforts', 'to', 'model', 'information', 'processing', 'in', 'biological', 'systems.', 'Unlike', 'the', 'von', 'Neumann', 'model,', 'neural', 'network', 'computing', 'does', 'not', 'separate', 'memory', 'and', 'processing.', 'Neural', 'network', 'theory', 'has', 'served', 'both', 'to', 'better', 'identify', 'how', 'the', 'neurons', 'in', 'the', 'brain', 'function', 'and', 'to', 'provide', 'the', 'basis', 'for', 'efforts', 'to', 'create', 'artificial', 'intelligence.']\n"
     ]
    }
   ],
   "source": [
    "def open_file():\n",
    "    filename = 'C:/Users/DELL/Desktop/Test.txt'\n",
    "    file = open(filename,'r')\n",
    "    text = file.read()\n",
    "    file.close()\n",
    "    \n",
    "    words = text.split()\n",
    "    print(words[10:])\n",
    "   \n",
    "   \n",
    "open_file()\n"
   ]
  },
  {
   "cell_type": "code",
   "execution_count": null,
   "metadata": {},
   "outputs": [],
   "source": []
  }
 ],
 "metadata": {
  "kernelspec": {
   "display_name": "Python 3",
   "language": "python",
   "name": "python3"
  },
  "language_info": {
   "codemirror_mode": {
    "name": "ipython",
    "version": 3
   },
   "file_extension": ".py",
   "mimetype": "text/x-python",
   "name": "python",
   "nbconvert_exporter": "python",
   "pygments_lexer": "ipython3",
   "version": "3.7.0"
  }
 },
 "nbformat": 4,
 "nbformat_minor": 2
}
